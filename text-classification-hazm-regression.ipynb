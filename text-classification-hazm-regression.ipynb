{
 "cells": [
  {
   "cell_type": "code",
   "execution_count": 1,
   "id": "ready-turner",
   "metadata": {
    "_cell_guid": "b1076dfc-b9ad-4769-8c92-a6c4dae69d19",
    "_uuid": "8f2839f25d086af736a60e9eeb907d3b93b6e0e5",
    "execution": {
     "iopub.execute_input": "2021-04-26T19:54:35.318142Z",
     "iopub.status.busy": "2021-04-26T19:54:35.316944Z",
     "iopub.status.idle": "2021-04-26T19:55:03.866249Z",
     "shell.execute_reply": "2021-04-26T19:55:03.864683Z"
    },
    "papermill": {
     "duration": 28.563472,
     "end_time": "2021-04-26T19:55:03.866447",
     "exception": false,
     "start_time": "2021-04-26T19:54:35.302975",
     "status": "completed"
    },
    "tags": []
   },
   "outputs": [
    {
     "name": "stdout",
     "output_type": "stream",
     "text": [
      "Collecting openpyxl\r\n",
      "  Downloading openpyxl-3.0.7-py2.py3-none-any.whl (243 kB)\r\n",
      "\u001b[K     |████████████████████████████████| 243 kB 863 kB/s \r\n",
      "\u001b[?25hCollecting et-xmlfile\r\n",
      "  Downloading et_xmlfile-1.1.0-py3-none-any.whl (4.7 kB)\r\n",
      "Installing collected packages: et-xmlfile, openpyxl\r\n",
      "Successfully installed et-xmlfile-1.1.0 openpyxl-3.0.7\r\n",
      "Collecting hazm\r\n",
      "  Downloading hazm-0.7.0-py3-none-any.whl (316 kB)\r\n",
      "\u001b[K     |████████████████████████████████| 316 kB 867 kB/s \r\n",
      "\u001b[?25hCollecting libwapiti>=0.2.1\r\n",
      "  Downloading libwapiti-0.2.1.tar.gz (233 kB)\r\n",
      "\u001b[K     |████████████████████████████████| 233 kB 3.5 MB/s \r\n",
      "\u001b[?25hCollecting nltk==3.3\r\n",
      "  Downloading nltk-3.3.0.zip (1.4 MB)\r\n",
      "\u001b[K     |████████████████████████████████| 1.4 MB 3.5 MB/s \r\n",
      "\u001b[?25hRequirement already satisfied: six in /opt/conda/lib/python3.7/site-packages (from nltk==3.3->hazm) (1.15.0)\r\n",
      "Building wheels for collected packages: nltk, libwapiti\r\n",
      "  Building wheel for nltk (setup.py) ... \u001b[?25l-\b \b\\\b \b|\b \b/\b \b-\b \b\\\b \bdone\r\n",
      "\u001b[?25h  Created wheel for nltk: filename=nltk-3.3-py3-none-any.whl size=1394468 sha256=d3fb4bbf0f30f86e35bfa4054c4b6799a919fa1cd862d6103ad988b3852bfd7b\r\n",
      "  Stored in directory: /root/.cache/pip/wheels/9b/fd/0c/d92302c876e5de87ebd7fc0979d82edb93e2d8d768bf71fac4\r\n",
      "  Building wheel for libwapiti (setup.py) ... \u001b[?25l-\b \b\\\b \b|\b \b/\b \b-\b \b\\\b \b|\b \b/\b \b-\b \b\\\b \b|\b \b/\b \b-\b \b\\\b \b|\b \b/\b \b-\b \bdone\r\n",
      "\u001b[?25h  Created wheel for libwapiti: filename=libwapiti-0.2.1-cp37-cp37m-linux_x86_64.whl size=169442 sha256=dce93f5b174b564f5283a2a32f952f4b09889afee75c5ff09dd40b8a178ee0c2\r\n",
      "  Stored in directory: /root/.cache/pip/wheels/ab/b2/5b/0fe4b8f5c0e65341e8ea7bb3f4a6ebabfe8b1ac31322392dbf\r\n",
      "Successfully built nltk libwapiti\r\n",
      "Installing collected packages: nltk, libwapiti, hazm\r\n",
      "  Attempting uninstall: nltk\r\n",
      "    Found existing installation: nltk 3.2.4\r\n",
      "    Uninstalling nltk-3.2.4:\r\n",
      "      Successfully uninstalled nltk-3.2.4\r\n",
      "\u001b[31mERROR: pip's dependency resolver does not currently take into account all the packages that are installed. This behaviour is the source of the following dependency conflicts.\r\n",
      "preprocessing 0.1.13 requires nltk==3.2.4, but you have nltk 3.3 which is incompatible.\u001b[0m\r\n",
      "Successfully installed hazm-0.7.0 libwapiti-0.2.1 nltk-3.3\r\n"
     ]
    }
   ],
   "source": [
    "!pip install openpyxl\n",
    "!pip install hazm"
   ]
  },
  {
   "cell_type": "code",
   "execution_count": 2,
   "id": "accurate-belize",
   "metadata": {
    "execution": {
     "iopub.execute_input": "2021-04-26T19:55:03.930367Z",
     "iopub.status.busy": "2021-04-26T19:55:03.929426Z",
     "iopub.status.idle": "2021-04-26T19:55:05.630124Z",
     "shell.execute_reply": "2021-04-26T19:55:05.629546Z"
    },
    "papermill": {
     "duration": 1.73469,
     "end_time": "2021-04-26T19:55:05.630266",
     "exception": false,
     "start_time": "2021-04-26T19:55:03.895576",
     "status": "completed"
    },
    "tags": []
   },
   "outputs": [
    {
     "name": "stdout",
     "output_type": "stream",
     "text": [
      "/kaggle/input/persian-digikala-reviwes/2-p9vcb5bb.xlsx\n"
     ]
    }
   ],
   "source": [
    "import numpy as np \n",
    "import pandas as pd\n",
    "from hazm import *\n",
    "import re\n",
    "from sklearn.feature_extraction.text import CountVectorizer\n",
    "\n",
    "import os\n",
    "for dirname, _, filenames in os.walk('/kaggle/input'):\n",
    "    for filename in filenames:\n",
    "        print(os.path.join(dirname, filename))"
   ]
  },
  {
   "cell_type": "code",
   "execution_count": 3,
   "id": "starting-plaintiff",
   "metadata": {
    "execution": {
     "iopub.execute_input": "2021-04-26T19:55:05.696770Z",
     "iopub.status.busy": "2021-04-26T19:55:05.695791Z",
     "iopub.status.idle": "2021-04-26T19:55:37.570918Z",
     "shell.execute_reply": "2021-04-26T19:55:37.571445Z"
    },
    "papermill": {
     "duration": 31.912989,
     "end_time": "2021-04-26T19:55:37.571617",
     "exception": false,
     "start_time": "2021-04-26T19:55:05.658628",
     "status": "completed"
    },
    "tags": []
   },
   "outputs": [
    {
     "data": {
      "text/plain": [
       "(100000, 12)"
      ]
     },
     "execution_count": 3,
     "metadata": {},
     "output_type": "execute_result"
    }
   ],
   "source": [
    "#read data\n",
    "dirty_df = pd.read_excel('../input/persian-digikala-reviwes/2-p9vcb5bb.xlsx')\n",
    "dirty_df.shape"
   ]
  },
  {
   "cell_type": "code",
   "execution_count": 4,
   "id": "increased-sister",
   "metadata": {
    "execution": {
     "iopub.execute_input": "2021-04-26T19:55:37.633367Z",
     "iopub.status.busy": "2021-04-26T19:55:37.632708Z",
     "iopub.status.idle": "2021-04-26T19:55:44.040530Z",
     "shell.execute_reply": "2021-04-26T19:55:44.039724Z"
    },
    "papermill": {
     "duration": 6.439656,
     "end_time": "2021-04-26T19:55:44.040740",
     "exception": false,
     "start_time": "2021-04-26T19:55:37.601084",
     "status": "completed"
    },
    "tags": []
   },
   "outputs": [
    {
     "name": "stdout",
     "output_type": "stream",
     "text": [
      "اگر ظرفیتش براتون کافیه حتما بخرید._x000D_\n",
      "یه شارژر 5 ولت 2 آمپر براش تهیه کنید تا سریعتر شارژ شه. خود برند شیائومی شارژر های خوبی داره._x000D_\n",
      "ظرافتش خوبه و وزن و ضخامت کمی داره و مثل یه موبایل راحت حمل میشه. البته پیشنهاد من ظرفیت های بالاتر هست. چون این مدل بسته به ظرفیت باتری گوشیتون صرفا به اندازه یک الی 2 بار شارژ کردن، انرژی ذخیره میکنه.\n",
      "------------------------------------------------\n",
      "اگر ظرفیتش براتون کافیه حتما بخرید. _x۰۰۰D_\n",
      "یه شارژر ۵ ولت ۲ آمپر براش تهیه کنید تا سریعتر شارژ شه. خود برند شیائومی شارژر‌های خوبی داره. _x۰۰۰D_\n",
      "ظرافتش خوبه و وزن و ضخامت کمی داره و مثل یه موبایل راحت حمل میشه. البته پیشنهاد من ظرفیت‌های بالاتر هست. چون این مدل بسته به ظرفیت باتری گوشیتون صرفا به اندازه یک الی ۲ بار شارژ کردن، انرژی ذخیره میکنه.\n"
     ]
    }
   ],
   "source": [
    "normalizer = Normalizer()\n",
    "\n",
    "print(dirty_df['comment'][4])\n",
    "dirty_df = dirty_df.dropna()\n",
    "\n",
    "dirty_df['comment'] = dirty_df['comment'].apply(lambda x:normalizer.normalize(x)) # Normaliz Text\n",
    "dirty_df['comment'] = dirty_df['comment'].apply(lambda x: re.sub('[0-9]+', ' ', x))\n",
    "#dirty_df['comment'] = dirty_df['comment'].apply(lambda x:sent_tokenize(x))        # Sent tokeniz\n",
    "#dirty_df['comment'] = dirty_df['comment'].apply(lambda x:word_tokenize(str(x)))        # Tokenize word\n",
    "\n",
    "print('------------------------------------------------')\n",
    "print(dirty_df['comment'][4])"
   ]
  },
  {
   "cell_type": "code",
   "execution_count": 5,
   "id": "physical-marine",
   "metadata": {
    "execution": {
     "iopub.execute_input": "2021-04-26T19:55:44.114219Z",
     "iopub.status.busy": "2021-04-26T19:55:44.113542Z",
     "iopub.status.idle": "2021-04-26T19:55:44.134488Z",
     "shell.execute_reply": "2021-04-26T19:55:44.135094Z"
    },
    "papermill": {
     "duration": 0.061335,
     "end_time": "2021-04-26T19:55:44.135274",
     "exception": false,
     "start_time": "2021-04-26T19:55:44.073939",
     "status": "completed"
    },
    "tags": []
   },
   "outputs": [
    {
     "name": "stdout",
     "output_type": "stream",
     "text": [
      "['recommended' 'no_idea' '\\\\N' 'not_recommended']\n"
     ]
    },
    {
     "data": {
      "text/plain": [
       "(15611, 12)"
      ]
     },
     "execution_count": 5,
     "metadata": {},
     "output_type": "execute_result"
    }
   ],
   "source": [
    "#here we keep useful values of'recommend' column in df\n",
    "\n",
    "#print(dirty_df.columns.values)\n",
    "print(dirty_df.recommend.unique())\n",
    "\n",
    "df = dirty_df\n",
    "df = df[(df['recommend'] == \"recommended\") | (df['recommend'] == \"not_recommended\")]\n",
    "df.shape"
   ]
  },
  {
   "cell_type": "code",
   "execution_count": 6,
   "id": "packed-yukon",
   "metadata": {
    "execution": {
     "iopub.execute_input": "2021-04-26T19:55:44.202283Z",
     "iopub.status.busy": "2021-04-26T19:55:44.201608Z",
     "iopub.status.idle": "2021-04-26T19:55:44.544092Z",
     "shell.execute_reply": "2021-04-26T19:55:44.543502Z"
    },
    "papermill": {
     "duration": 0.378582,
     "end_time": "2021-04-26T19:55:44.544253",
     "exception": false,
     "start_time": "2021-04-26T19:55:44.165671",
     "status": "completed"
    },
    "tags": []
   },
   "outputs": [
    {
     "data": {
      "text/plain": [
       "<AxesSubplot:ylabel='Frequency'>"
      ]
     },
     "execution_count": 6,
     "metadata": {},
     "output_type": "execute_result"
    },
    {
     "data": {
      "image/png": "[encoded data removed]",
      "text/plain": [
       "<Figure size 432x288 with 1 Axes>"
      ]
     },
     "metadata": {
      "needs_background": "light"
     },
     "output_type": "display_data"
    }
   ],
   "source": [
    "#df['comment'].str.len().plot.hist()\n",
    "df[df['likes']<40]['likes'].plot.hist(bins=20)\n",
    "df[df['dislikes']<20]['dislikes'].plot.hist(bins=20)"
   ]
  },
  {
   "cell_type": "code",
   "execution_count": 7,
   "id": "chief-learning",
   "metadata": {
    "execution": {
     "iopub.execute_input": "2021-04-26T19:55:44.620746Z",
     "iopub.status.busy": "2021-04-26T19:55:44.614625Z",
     "iopub.status.idle": "2021-04-26T19:55:44.631134Z",
     "shell.execute_reply": "2021-04-26T19:55:44.630441Z"
    },
    "papermill": {
     "duration": 0.054935,
     "end_time": "2021-04-26T19:55:44.631278",
     "exception": false,
     "start_time": "2021-04-26T19:55:44.576343",
     "status": "completed"
    },
    "tags": []
   },
   "outputs": [
    {
     "data": {
      "text/plain": [
       "(7596, 12)"
      ]
     },
     "execution_count": 7,
     "metadata": {},
     "output_type": "execute_result"
    }
   ],
   "source": [
    "df = df[((df['likes']/df['dislikes'])>1)&(df['recommend'] == \"recommended\")\n",
    "       |((df['recommend'] == \"not_recommended\")&(df['dislikes']/df['likes']>1))]\n",
    "df.shape"
   ]
  },
  {
   "cell_type": "code",
   "execution_count": 8,
   "id": "labeled-butterfly",
   "metadata": {
    "execution": {
     "iopub.execute_input": "2021-04-26T19:55:44.704559Z",
     "iopub.status.busy": "2021-04-26T19:55:44.703498Z",
     "iopub.status.idle": "2021-04-26T19:55:44.718148Z",
     "shell.execute_reply": "2021-04-26T19:55:44.717503Z"
    },
    "papermill": {
     "duration": 0.054938,
     "end_time": "2021-04-26T19:55:44.718286",
     "exception": false,
     "start_time": "2021-04-26T19:55:44.663348",
     "status": "completed"
    },
    "tags": []
   },
   "outputs": [
    {
     "data": {
      "text/html": [
       "<div>\n",
       "<style scoped>\n",
       "    .dataframe tbody tr th:only-of-type {\n",
       "        vertical-align: middle;\n",
       "    }\n",
       "\n",
       "    .dataframe tbody tr th {\n",
       "        vertical-align: top;\n",
       "    }\n",
       "\n",
       "    .dataframe thead th {\n",
       "        text-align: right;\n",
       "    }\n",
       "</style>\n",
       "<table border=\"1\" class=\"dataframe\">\n",
       "  <thead>\n",
       "    <tr style=\"text-align: right;\">\n",
       "      <th></th>\n",
       "      <th>recommend</th>\n",
       "      <th>comment</th>\n",
       "    </tr>\n",
       "  </thead>\n",
       "  <tbody>\n",
       "    <tr>\n",
       "      <th>1</th>\n",
       "      <td>recommended</td>\n",
       "      <td>سلام، قبل اینکه نظرم رو بگم میخواستم به یک موض...</td>\n",
       "    </tr>\n",
       "    <tr>\n",
       "      <th>5</th>\n",
       "      <td>recommended</td>\n",
       "      <td>سلام دوستان،، _x۰۰۰D_\\nمنم مثه بعضی از دوستان ...</td>\n",
       "    </tr>\n",
       "    <tr>\n",
       "      <th>6</th>\n",
       "      <td>recommended</td>\n",
       "      <td>من چند سالی هست که این اسپیکرو خریدم و واقعا ح...</td>\n",
       "    </tr>\n",
       "    <tr>\n",
       "      <th>10</th>\n",
       "      <td>recommended</td>\n",
       "      <td>نزدیک به دو ساله که این هارد رو خریدم. استفاده...</td>\n",
       "    </tr>\n",
       "    <tr>\n",
       "      <th>12</th>\n",
       "      <td>recommended</td>\n",
       "      <td>افا از وقتی من اینو واسه پسرم خریدم همه بچه‌ها...</td>\n",
       "    </tr>\n",
       "    <tr>\n",
       "      <th>...</th>\n",
       "      <td>...</td>\n",
       "      <td>...</td>\n",
       "    </tr>\n",
       "    <tr>\n",
       "      <th>99913</th>\n",
       "      <td>not_recommended</td>\n",
       "      <td>شماره ۴۴سفارش دادم قالب آ ن کوچک است اندازه پا...</td>\n",
       "    </tr>\n",
       "    <tr>\n",
       "      <th>99924</th>\n",
       "      <td>recommended</td>\n",
       "      <td>با این مبلغ الان یه بستنی هم نمیشه خورد</td>\n",
       "    </tr>\n",
       "    <tr>\n",
       "      <th>99941</th>\n",
       "      <td>recommended</td>\n",
       "      <td>سلام _x۰۰۰D_\\nمن دو هفته هست این دستگاه رو خری...</td>\n",
       "    </tr>\n",
       "    <tr>\n",
       "      <th>99953</th>\n",
       "      <td>recommended</td>\n",
       "      <td>من آیفون ۶ اس پلاس دارم و کاور سیلیکونی هم دار...</td>\n",
       "    </tr>\n",
       "    <tr>\n",
       "      <th>99960</th>\n",
       "      <td>recommended</td>\n",
       "      <td>بد نیست، سریع باز و بستش می‌کنید، لای کیف عابر...</td>\n",
       "    </tr>\n",
       "  </tbody>\n",
       "</table>\n",
       "<p>7596 rows × 2 columns</p>\n",
       "</div>"
      ],
      "text/plain": [
       "             recommend                                            comment\n",
       "1          recommended  سلام، قبل اینکه نظرم رو بگم میخواستم به یک موض...\n",
       "5          recommended  سلام دوستان،، _x۰۰۰D_\\nمنم مثه بعضی از دوستان ...\n",
       "6          recommended  من چند سالی هست که این اسپیکرو خریدم و واقعا ح...\n",
       "10         recommended  نزدیک به دو ساله که این هارد رو خریدم. استفاده...\n",
       "12         recommended  افا از وقتی من اینو واسه پسرم خریدم همه بچه‌ها...\n",
       "...                ...                                                ...\n",
       "99913  not_recommended  شماره ۴۴سفارش دادم قالب آ ن کوچک است اندازه پا...\n",
       "99924      recommended            با این مبلغ الان یه بستنی هم نمیشه خورد\n",
       "99941      recommended  سلام _x۰۰۰D_\\nمن دو هفته هست این دستگاه رو خری...\n",
       "99953      recommended  من آیفون ۶ اس پلاس دارم و کاور سیلیکونی هم دار...\n",
       "99960      recommended  بد نیست، سریع باز و بستش می‌کنید، لای کیف عابر...\n",
       "\n",
       "[7596 rows x 2 columns]"
      ]
     },
     "execution_count": 8,
     "metadata": {},
     "output_type": "execute_result"
    }
   ],
   "source": [
    "df = df[['recommend','comment']]\n",
    "df"
   ]
  },
  {
   "cell_type": "code",
   "execution_count": 9,
   "id": "biological-pledge",
   "metadata": {
    "execution": {
     "iopub.execute_input": "2021-04-26T19:55:44.791280Z",
     "iopub.status.busy": "2021-04-26T19:55:44.790592Z",
     "iopub.status.idle": "2021-04-26T19:55:45.710489Z",
     "shell.execute_reply": "2021-04-26T19:55:45.709816Z"
    },
    "papermill": {
     "duration": 0.959951,
     "end_time": "2021-04-26T19:55:45.710637",
     "exception": false,
     "start_time": "2021-04-26T19:55:44.750686",
     "status": "completed"
    },
    "tags": []
   },
   "outputs": [
    {
     "data": {
      "text/plain": [
       "array([0.63681414, 0.40394491, 0.25197147, ..., 0.19983383, 0.12309238,\n",
       "       0.05106552])"
      ]
     },
     "execution_count": 9,
     "metadata": {},
     "output_type": "execute_result"
    }
   ],
   "source": [
    "#finally some serious stuff\n",
    "from sklearn.model_selection import train_test_split\n",
    "from textblob import TextBlob\n",
    "from textblob import Word\n",
    "from sklearn.feature_extraction.text import CountVectorizer, TfidfVectorizer\n",
    "import sklearn.feature_extraction.text as text\n",
    "from sklearn import model_selection, preprocessing, linear_model, naive_bayes, metrics, svm\n",
    "\n",
    "train_x, valid_x, train_y, valid_y = model_selection.train_test_split(df['comment'], df['recommend'])\n",
    "\n",
    "encoder = preprocessing.LabelEncoder()\n",
    "train_y = encoder.fit_transform(train_y)\n",
    "valid_y = encoder.fit_transform(valid_y)\n",
    "\n",
    "tfidf_vect = TfidfVectorizer(analyzer='word', token_pattern=r'\\w{1,}', max_features=5000)\n",
    "tfidf_vect.fit(df['comment'])\n",
    "xtrain_tfidf = tfidf_vect.transform(train_x)\n",
    "xvalid_tfidf = tfidf_vect.transform(valid_x)\n",
    "xtrain_tfidf.data"
   ]
  },
  {
   "cell_type": "code",
   "execution_count": 10,
   "id": "pregnant-rider",
   "metadata": {
    "execution": {
     "iopub.execute_input": "2021-04-26T19:55:45.787130Z",
     "iopub.status.busy": "2021-04-26T19:55:45.786425Z",
     "iopub.status.idle": "2021-04-26T19:55:45.893395Z",
     "shell.execute_reply": "2021-04-26T19:55:45.892553Z"
    },
    "papermill": {
     "duration": 0.147428,
     "end_time": "2021-04-26T19:55:45.893602",
     "exception": false,
     "start_time": "2021-04-26T19:55:45.746174",
     "status": "completed"
    },
    "tags": []
   },
   "outputs": [
    {
     "name": "stdout",
     "output_type": "stream",
     "text": [
      "Accuracy:  0.8773038441284887\n"
     ]
    }
   ],
   "source": [
    "clf = linear_model.LogisticRegression()\n",
    "clf.fit(xtrain_tfidf,train_y)\n",
    "predictions = clf.predict(xvalid_tfidf)\n",
    "print (\"Accuracy: \",metrics.accuracy_score(predictions, valid_y))"
   ]
  },
  {
   "cell_type": "code",
   "execution_count": 11,
   "id": "sunset-context",
   "metadata": {
    "execution": {
     "iopub.execute_input": "2021-04-26T19:55:45.980221Z",
     "iopub.status.busy": "2021-04-26T19:55:45.979471Z",
     "iopub.status.idle": "2021-04-26T19:55:45.983505Z",
     "shell.execute_reply": "2021-04-26T19:55:45.984020Z"
    },
    "papermill": {
     "duration": 0.047283,
     "end_time": "2021-04-26T19:55:45.984185",
     "exception": false,
     "start_time": "2021-04-26T19:55:45.936902",
     "status": "completed"
    },
    "tags": []
   },
   "outputs": [
    {
     "name": "stdout",
     "output_type": "stream",
     "text": [
      "خیلی ضعیف بود\n"
     ]
    },
    {
     "data": {
      "text/plain": [
       "array([0])"
      ]
     },
     "execution_count": 11,
     "metadata": {},
     "output_type": "execute_result"
    }
   ],
   "source": [
    "#an example of negative example\n",
    "n = 99958\n",
    "tmp = dirty_df.loc[n,'comment']\n",
    "tmp2 = pd.Series(normalizer.normalize(tmp))\n",
    "tmp_tfidf = tfidf_vect.transform(tmp2)\n",
    "x = clf.predict(tmp_tfidf)\n",
    "\n",
    "print(dirty_df['comment'][n])\n",
    "x"
   ]
  },
  {
   "cell_type": "code",
   "execution_count": 12,
   "id": "derived-shirt",
   "metadata": {
    "execution": {
     "iopub.execute_input": "2021-04-26T19:55:46.063701Z",
     "iopub.status.busy": "2021-04-26T19:55:46.062984Z",
     "iopub.status.idle": "2021-04-26T19:55:46.067302Z",
     "shell.execute_reply": "2021-04-26T19:55:46.066789Z"
    },
    "papermill": {
     "duration": 0.048215,
     "end_time": "2021-04-26T19:55:46.067439",
     "exception": false,
     "start_time": "2021-04-26T19:55:46.019224",
     "status": "completed"
    },
    "tags": []
   },
   "outputs": [
    {
     "name": "stdout",
     "output_type": "stream",
     "text": [
      "عالیه سومین تیوپ رو خریدم جوش اصلا نمیاره رنگش تابلو نیست و جذبش خوبه. قبلا هم گفتم عالیه. مخصوصا که قیمتش کمه و من برا پشت دستهامم استفاده میکنم\n"
     ]
    },
    {
     "data": {
      "text/plain": [
       "array([1])"
      ]
     },
     "execution_count": 12,
     "metadata": {},
     "output_type": "execute_result"
    }
   ],
   "source": [
    "#an example of negative example\n",
    "n = 200\n",
    "tmp = dirty_df.loc[n,'comment']\n",
    "tmp2 = pd.Series(normalizer.normalize(tmp))\n",
    "tmp_tfidf = tfidf_vect.transform(tmp2)\n",
    "x = clf.predict(tmp_tfidf)\n",
    "\n",
    "print(dirty_df['comment'][n])\n",
    "x"
   ]
  }
 ],
 "metadata": {
  "kernelspec": {
   "display_name": "Python 3",
   "language": "python",
   "name": "python3"
  },
  "language_info": {
   "codemirror_mode": {
    "name": "ipython",
    "version": 3
   },
   "file_extension": ".py",
   "mimetype": "text/x-python",
   "name": "python",
   "nbconvert_exporter": "python",
   "pygments_lexer": "ipython3",
   "version": "3.7.9"
  },
  "papermill": {
   "default_parameters": {},
   "duration": 78.501395,
   "end_time": "2021-04-26T19:55:46.913819",
   "environment_variables": {},
   "exception": null,
   "input_path": "__notebook__.ipynb",
   "output_path": "__notebook__.ipynb",
   "parameters": {},
   "start_time": "2021-04-26T19:54:28.412424",
   "version": "2.3.2"
  }
 },
 "nbformat": 4,
 "nbformat_minor": 5
}
